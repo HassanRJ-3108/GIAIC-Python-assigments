{
 "cells": [
  {
   "cell_type": "code",
   "execution_count": null,
   "metadata": {},
   "outputs": [
    {
     "name": "stdout",
     "output_type": "stream",
     "text": [
      "The equivalent weight on Mars: 17.39\n"
     ]
    }
   ],
   "source": [
    "# Planetary Weight Calculator 🌍🚀\n",
    "\n",
    "# Dictionary containing the gravity ratios of planets compared to Earth\n",
    "gravity_ratios = {\n",
    "    \"Mercury\": 0.376,  # Mercury has 37.6% of Earth's gravity\n",
    "    \"Venus\": 0.889,    # Venus has 88.9% of Earth's gravity\n",
    "    \"Mars\": 0.378,     # Mars has 37.8% of Earth's gravity\n",
    "    \"Jupiter\": 2.36,   # Jupiter has 236% of Earth's gravity\n",
    "    \"Saturn\": 1.081,   # Saturn has 108.1% of Earth's gravity\n",
    "    \"Uranus\": 0.815,   # Uranus has 81.5% of Earth's gravity\n",
    "    \"Neptune\": 1.14    # Neptune has 114% of Earth's gravity\n",
    "}\n",
    "\n",
    "# Step 1: Ask the user for their weight on Earth\n",
    "earth_weight = float(input(\"Enter your weight on Earth: \"))\n",
    "\n",
    "# Step 2: Ask for the planet name\n",
    "planet = input(\"Enter a planet: \").strip()  # Strip removes extra spaces\n",
    "\n",
    "# Step 3: Check if the planet is valid and calculate weight\n",
    "if planet in gravity_ratios:\n",
    "    # Calculate the equivalent weight on the chosen planet\n",
    "    planet_weight = round(earth_weight * gravity_ratios[planet], 2)\n",
    "    print(f\"The equivalent weight on {planet}: {planet_weight}\")\n",
    "else:\n",
    "    print(\"Invalid planet name. Please enter a valid planet from the solar system.\")\n"
   ]
  }
 ],
 "metadata": {
  "kernelspec": {
   "display_name": "Python 3",
   "language": "python",
   "name": "python3"
  },
  "language_info": {
   "codemirror_mode": {
    "name": "ipython",
    "version": 3
   },
   "file_extension": ".py",
   "mimetype": "text/x-python",
   "name": "python",
   "nbconvert_exporter": "python",
   "pygments_lexer": "ipython3",
   "version": "3.12.9"
  }
 },
 "nbformat": 4,
 "nbformat_minor": 2
}
