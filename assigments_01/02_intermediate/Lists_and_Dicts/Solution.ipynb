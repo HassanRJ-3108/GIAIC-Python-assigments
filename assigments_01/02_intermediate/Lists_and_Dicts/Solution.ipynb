{
 "cells": [
  {
   "cell_type": "markdown",
   "metadata": {},
   "source": [
    "# #**Problem 1: List Practice**"
   ]
  },
  {
   "cell_type": "code",
   "execution_count": 2,
   "metadata": {},
   "outputs": [
    {
     "name": "stdout",
     "output_type": "stream",
     "text": [
      "Length of the list: 5\n",
      "Updated List: ['apple', 'banana', 'orange', 'grape', 'pineapple', 'mango']\n"
     ]
    }
   ],
   "source": [
    "def main():\n",
    "    # Step 1: Create a list with the following fruits.\n",
    "    fruit_list = ['apple', 'banana', 'orange', 'grape', 'pineapple']\n",
    "    \n",
    "    # Step 2: Print the length of the list.\n",
    "    print(\"Length of the list:\", len(fruit_list))\n",
    "\n",
    "    # Step 3: Add 'mango' to the end of the list.\n",
    "    fruit_list.append('mango')\n",
    "\n",
    "    # Step 4: Print the updated list.\n",
    "    print(\"Updated List:\", fruit_list)\n",
    "\n",
    "# Function call\n",
    "main()\n"
   ]
  },
  {
   "cell_type": "markdown",
   "metadata": {},
   "source": [
    "# #**Problem 2: Index Game**"
   ]
  },
  {
   "cell_type": "code",
   "execution_count": 4,
   "metadata": {},
   "outputs": [
    {
     "name": "stdout",
     "output_type": "stream",
     "text": [
      "\n",
      "Choose an operation:\n",
      "1. Access an element\n",
      "2. Modify an element\n",
      "3. Slice the list\n",
      "4. Exit\n"
     ]
    },
    {
     "name": "stdout",
     "output_type": "stream",
     "text": [
      "Element at index 2: cherry\n",
      "\n",
      "Choose an operation:\n",
      "1. Access an element\n",
      "2. Modify an element\n",
      "3. Slice the list\n",
      "4. Exit\n",
      "Updated List: ['apple', 'banana', 'cherry', 'Peach', 'orange']\n",
      "\n",
      "Choose an operation:\n",
      "1. Access an element\n",
      "2. Modify an element\n",
      "3. Slice the list\n",
      "4. Exit\n",
      "Sliced List: ['banana', 'cherry', 'Peach']\n",
      "\n",
      "Choose an operation:\n",
      "1. Access an element\n",
      "2. Modify an element\n",
      "3. Slice the list\n",
      "4. Exit\n",
      "Exiting program. Goodbye! 😊\n"
     ]
    }
   ],
   "source": [
    "def access_element(lst, index):\n",
    "    \"\"\" Returns the element at the given index or an error message \"\"\"\n",
    "    if 0 <= index < len(lst):\n",
    "        return f\"Element at index {index}: {lst[index]}\"\n",
    "    else:\n",
    "        return \"Index out of range!\"\n",
    "\n",
    "def modify_element(lst, index, new_value):\n",
    "    \"\"\" Replaces the element at a specific index with a new value \"\"\"\n",
    "    if 0 <= index < len(lst):\n",
    "        lst[index] = new_value\n",
    "        return f\"Updated List: {lst}\"\n",
    "    else:\n",
    "        return \"Index out of range! Cannot modify.\"\n",
    "\n",
    "def slice_list(lst, start, end):\n",
    "    \"\"\" Returns a sublist from start index to end index (excluding end) \"\"\"\n",
    "    if 0 <= start < len(lst) and 0 <= end <= len(lst) and start < end:\n",
    "        return f\"Sliced List: {lst[start:end]}\"\n",
    "    else:\n",
    "        return \"Invalid range for slicing!\"\n",
    "\n",
    "def main():\n",
    "    # Initialize a list with some elements\n",
    "    my_list = [\"apple\", \"banana\", \"cherry\", \"grape\", \"orange\"]\n",
    "\n",
    "    while True:\n",
    "        # Display menu options\n",
    "        print(\"\\nChoose an operation:\")\n",
    "        print(\"1. Access an element\")\n",
    "        print(\"2. Modify an element\")\n",
    "        print(\"3. Slice the list\")\n",
    "        print(\"4. Exit\")\n",
    "\n",
    "        choice = input(\"Enter your choice: \")\n",
    "\n",
    "        if choice == \"1\":\n",
    "            # Get index input from the user\n",
    "            index = int(input(\"Enter index to access: \"))\n",
    "            print(access_element(my_list, index))\n",
    "\n",
    "        elif choice == \"2\":\n",
    "            # Get index and new value from the user\n",
    "            index = int(input(\"Enter index to modify: \"))\n",
    "            new_value = input(\"Enter new value: \")\n",
    "            print(modify_element(my_list, index, new_value))\n",
    "\n",
    "        elif choice == \"3\":\n",
    "            # Get start and end indices for slicing\n",
    "            start = int(input(\"Enter start index: \"))\n",
    "            end = int(input(\"Enter end index: \"))\n",
    "            print(slice_list(my_list, start, end))\n",
    "\n",
    "        elif choice == \"4\":\n",
    "            # Exit the program\n",
    "            print(\"Exiting program. Goodbye! 😊\")\n",
    "            break\n",
    "\n",
    "        else:\n",
    "            print(\"Invalid choice! Please select a valid option.\")\n",
    "\n",
    "# Run the game\n",
    "main()\n"
   ]
  }
 ],
 "metadata": {
  "kernelspec": {
   "display_name": "Python 3",
   "language": "python",
   "name": "python3"
  },
  "language_info": {
   "codemirror_mode": {
    "name": "ipython",
    "version": 3
   },
   "file_extension": ".py",
   "mimetype": "text/x-python",
   "name": "python",
   "nbconvert_exporter": "python",
   "pygments_lexer": "ipython3",
   "version": "3.12.9"
  }
 },
 "nbformat": 4,
 "nbformat_minor": 2
}
