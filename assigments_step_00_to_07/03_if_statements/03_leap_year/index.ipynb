{
 "cells": [
  {
   "cell_type": "markdown",
   "metadata": {},
   "source": [
    "## Problem Statement\n",
    "\n",
    "Write a program that reads a year from the user and tells whether a given year is a leap year or not.\n",
    "\n",
    "A leap year (also known as an intercalary year or bissextile year) is a calendar year that contains an additional day (or, in the case of a lunisolar calendar, a month) added to keep the calendar year synchronized with the astronomical year or seasonal year. In the Gregorian calendar, each leap year has 366 days instead of 365, by extending February to 29 days rather than the common 28.\n",
    "\n",
    "In the Gregorian calendar, three criteria must be checked to identify leap years:\n",
    "1. The given year must be evenly divisible by 4;\n",
    "2. If the year can also be evenly divided by 100, it is NOT a leap year; unless:\n",
    "3. The year is also evenly divisible by 400. Then it is a leap year.\n",
    "\n",
    "Your code should use the above criteria to check for a leap year and then print either \"That's a leap year!\" or \"That's not a leap year.\"\n"
   ]
  },
  {
   "cell_type": "code",
   "execution_count": 4,
   "metadata": {},
   "outputs": [
    {
     "name": "stdout",
     "output_type": "stream",
     "text": [
      "Yeah that's a leap year\n"
     ]
    }
   ],
   "source": [
    "year = int(input(\"Enter a days in year to check if it leap or not: \"))\n",
    "\n",
    "if year % 4 == 0:\n",
    "    if year % 100 == 0:\n",
    "        if year % 400 == 0:\n",
    "            print(\"Yeah that's a leap year\")\n",
    "        else:\n",
    "            print(\"That's not a leap year\")\n",
    "    else:\n",
    "        print(\"That's a leap year\")\n",
    "else:\n",
    "    print(\"That's not a leap year\")"
   ]
  }
 ],
 "metadata": {
  "kernelspec": {
   "display_name": "Python 3",
   "language": "python",
   "name": "python3"
  },
  "language_info": {
   "codemirror_mode": {
    "name": "ipython",
    "version": 3
   },
   "file_extension": ".py",
   "mimetype": "text/x-python",
   "name": "python",
   "nbconvert_exporter": "python",
   "pygments_lexer": "ipython3",
   "version": "3.12.9"
  }
 },
 "nbformat": 4,
 "nbformat_minor": 2
}
