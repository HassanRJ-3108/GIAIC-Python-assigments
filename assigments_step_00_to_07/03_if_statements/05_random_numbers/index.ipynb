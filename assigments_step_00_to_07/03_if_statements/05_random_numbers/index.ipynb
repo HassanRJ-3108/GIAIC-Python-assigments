{
 "cells": [
  {
   "cell_type": "markdown",
   "metadata": {},
   "source": [
    "## Problem Statement\n",
    "\n",
    "Print 10 random numbers in the range 1 to 100.\n",
    "\n",
    "Here is an example run:\n",
    "\n",
    "45\n",
    "79\n",
    "61\n",
    "47\n",
    "52\n",
    "10\n",
    "16\n",
    "83\n",
    "19\n",
    "12\n",
    "\n",
    "Each time you run your program you should get different numbers\n",
    "\n",
    "81\n",
    "76\n",
    "70\n",
    "1\n",
    "27\n",
    "63\n",
    "96\n",
    "100\n",
    "32\n",
    "92\n",
    "\n",
    "Recall that the python random library has a function randint which returns an integer in the range set by the parameters (inclusive). For example this call would produce a random integer between 1 and 6, which could include 1 and could include 6:\n",
    "\n",
    "value = random.randint(1, 6)"
   ]
  },
  {
   "cell_type": "code",
   "execution_count": 4,
   "metadata": {},
   "outputs": [
    {
     "name": "stdout",
     "output_type": "stream",
     "text": [
      "26\n",
      "74\n",
      "1\n",
      "29\n",
      "37\n",
      "78\n",
      "36\n",
      "20\n",
      "100\n",
      "34\n"
     ]
    }
   ],
   "source": [
    "import random\n",
    "\n",
    "for i in range(10):\n",
    "    print(random.randint(1, 100))"
   ]
  }
 ],
 "metadata": {
  "kernelspec": {
   "display_name": "Python 3",
   "language": "python",
   "name": "python3"
  },
  "language_info": {
   "codemirror_mode": {
    "name": "ipython",
    "version": 3
   },
   "file_extension": ".py",
   "mimetype": "text/x-python",
   "name": "python",
   "nbconvert_exporter": "python",
   "pygments_lexer": "ipython3",
   "version": "3.12.9"
  }
 },
 "nbformat": 4,
 "nbformat_minor": 2
}
