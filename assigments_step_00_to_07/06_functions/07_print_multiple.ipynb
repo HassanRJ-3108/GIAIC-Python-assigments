{
 "cells": [
  {
   "cell_type": "markdown",
   "metadata": {},
   "source": [
    "## Problem Statement\n",
    "\n",
    "Fill out print_multiple(message, repeats), which takes as parameters a string message to print, and an integer repeats number of times to print message. We've written the main() function for you, which prompts the user for a message and a number of repeats.\n",
    "\n",
    "Here's a sample run of the program (user input is in blue):\n",
    "\n",
    "Please type a message: Hello! \n",
    "Enter a number of times to repeat your message: 6 \n",
    "Hello! \n",
    "Hello! \n",
    "Hello! \n",
    "Hello! \n",
    "Hello! \n",
    "Hello!\n"
   ]
  },
  {
   "cell_type": "code",
   "execution_count": 1,
   "metadata": {},
   "outputs": [
    {
     "name": "stdout",
     "output_type": "stream",
     "text": [
      "Hello I'm Hassan\n",
      "Hello I'm Hassan\n",
      "Hello I'm Hassan\n",
      "Hello I'm Hassan\n",
      "Hello I'm Hassan\n"
     ]
    }
   ],
   "source": [
    "def print_multiple(message: str, repeats: int):\n",
    "    for i in range(repeats):\n",
    "        print(message)\n",
    "\n",
    "# There is no need to edit code beyond this point\n",
    "\n",
    "def main():\n",
    "    message = input(\"Please type a message: \")\n",
    "    repeats = int(input(\"Enter a number of times to repeat your message: \"))\n",
    "    print_multiple(message, repeats)\n",
    "\n",
    "\n",
    "if __name__ == '__main__':\n",
    "    main()"
   ]
  }
 ],
 "metadata": {
  "kernelspec": {
   "display_name": "Python 3",
   "language": "python",
   "name": "python3"
  },
  "language_info": {
   "codemirror_mode": {
    "name": "ipython",
    "version": 3
   },
   "file_extension": ".py",
   "mimetype": "text/x-python",
   "name": "python",
   "nbconvert_exporter": "python",
   "pygments_lexer": "ipython3",
   "version": "3.12.9"
  }
 },
 "nbformat": 4,
 "nbformat_minor": 2
}
