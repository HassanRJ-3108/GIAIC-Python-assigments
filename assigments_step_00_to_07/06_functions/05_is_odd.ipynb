{
 "cells": [
  {
   "cell_type": "markdown",
   "metadata": {},
   "source": [
    "## Problem Statement\n",
    "\n",
    "10 even\n",
    "11 odd\n",
    "12 even\n",
    "13 odd\n",
    "14 even\n",
    "15 odd\n",
    "16 even\n",
    "17 odd\n",
    "18 even\n",
    "19 odd"
   ]
  },
  {
   "cell_type": "code",
   "execution_count": 1,
   "metadata": {},
   "outputs": [
    {
     "name": "stdout",
     "output_type": "stream",
     "text": [
      "even\n",
      "odd\n",
      "even\n",
      "odd\n",
      "even\n",
      "odd\n",
      "even\n",
      "odd\n",
      "even\n",
      "odd\n"
     ]
    }
   ],
   "source": [
    "def main():\n",
    "    for i in range(10):\n",
    "        if is_odd(i):\n",
    "            print('odd')\n",
    "        else:\n",
    "            print('even')\n",
    "            \n",
    "def is_odd(value: int):\n",
    "    \"\"\"\n",
    "    Checks to see if a value is odd. If it is, returns true.\n",
    "    \"\"\"\n",
    "    \n",
    "    remainder = value % 2  # 0 if value is divisible by 2, 1 if it isn't\n",
    "    return remainder == 1\n",
    "\n",
    "\n",
    "# There is no need to edit code beyond this point\n",
    "\n",
    "if __name__ == '__main__':\n",
    "    main()"
   ]
  }
 ],
 "metadata": {
  "kernelspec": {
   "display_name": "Python 3",
   "language": "python",
   "name": "python3"
  },
  "language_info": {
   "codemirror_mode": {
    "name": "ipython",
    "version": 3
   },
   "file_extension": ".py",
   "mimetype": "text/x-python",
   "name": "python",
   "nbconvert_exporter": "python",
   "pygments_lexer": "ipython3",
   "version": "3.12.9"
  }
 },
 "nbformat": 4,
 "nbformat_minor": 2
}
