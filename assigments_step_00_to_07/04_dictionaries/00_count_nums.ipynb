{
 "cells": [
  {
   "cell_type": "markdown",
   "metadata": {},
   "source": [
    "## Problem Statement\n",
    "\n",
    "This program counts the number of times each number appears in a list. It uses a dictionary to keep track of the information.\n",
    "\n",
    "An example run of the program looks like this (user input is in blue):\n",
    "\n",
    "Enter a number: 3\n",
    "Enter a number: 4\n",
    "Enter a number: 3\n",
    "Enter a number: 6\n",
    "Enter a number: 4\n",
    "Enter a number: 3\n",
    "Enter a number: 12\n",
    "Enter a number: \n",
    "3 appears 3 times.\n",
    "4 appears 2 times.\n",
    "6 appears 1 times.\n",
    "12 appears 1 times.\n"
   ]
  },
  {
   "cell_type": "code",
   "execution_count": 1,
   "metadata": {},
   "outputs": [
    {
     "name": "stdout",
     "output_type": "stream",
     "text": [
      "None\n"
     ]
    }
   ],
   "source": [
    "def get_list_from_user():\n",
    "    my_list = []\n",
    "    nums = input(\"Enter a value: \")\n",
    "    while nums != \"\":\n",
    "        my_list.append(nums)\n",
    "        nums = input(\"Enter a value: \")\n",
    "    return my_list\n",
    "\n",
    "def count_nums(num_list):\n",
    "    \n",
    "    my_dict = {}\n",
    "    for num in num_list:\n",
    "        if num not in my_dict:\n",
    "            my_dict[num] = 1\n",
    "        else:\n",
    "            my_dict[num] += 1\n",
    "            \n",
    "    for num in my_dict:\n",
    "        print(f\"{num} appears {my_dict[num]} times.\")\n",
    "    \n",
    "\n",
    "def main():\n",
    "    num_list = get_list_from_user()\n",
    "    num_dict = count_nums(num_list)\n",
    "    print(num_dict)\n",
    "    \n",
    "    \n",
    "if __name__ == \"__main__\": \n",
    "    main()"
   ]
  }
 ],
 "metadata": {
  "kernelspec": {
   "display_name": "Python 3",
   "language": "python",
   "name": "python3"
  },
  "language_info": {
   "codemirror_mode": {
    "name": "ipython",
    "version": 3
   },
   "file_extension": ".py",
   "mimetype": "text/x-python",
   "name": "python",
   "nbconvert_exporter": "python",
   "pygments_lexer": "ipython3",
   "version": "3.12.9"
  }
 },
 "nbformat": 4,
 "nbformat_minor": 2
}
