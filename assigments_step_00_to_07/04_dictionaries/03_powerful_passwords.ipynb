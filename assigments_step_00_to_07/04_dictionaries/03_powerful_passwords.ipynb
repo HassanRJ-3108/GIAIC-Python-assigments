{
 "cells": [
  {
   "cell_type": "markdown",
   "metadata": {},
   "source": [
    "## Problem Statement\n",
    "\n",
    "You want to be safe online and use different passwords for different websites. However, you are forgetful at times and want to make a program that can match which password belongs to which website without storing the actual password!\n",
    "\n",
    "This can be done via something called hashing. Hashing is when we take something and convert it into a different, unique identifier. This is done using a hash function. Luckily, there are several resources that can help us with this.\n",
    "\n",
    "For example, using a hash function called SHA256(...) something as simple as \n",
    "\n",
    "hello\n",
    "\n",
    "can be hashed into a much more complex \n",
    "\n",
    "2cf24dba5fb0a30e26e83b2ac5b9e29e1b161e5c1fa7425e73043362938b9824\n",
    "\n",
    "Fill out the login(...) function for a website that hashes their passwords. Login should return True if an email's stored password hash in stored_logins is the same as the hash of password_to_check.\n",
    "\n",
    "(Hint. You will need to use the provided hash_password(...) function. You don't necessarily need to know how it works, just know that hash_password(...) returns the hash for the password!)\n"
   ]
  },
  {
   "cell_type": "code",
   "execution_count": 20,
   "metadata": {},
   "outputs": [
    {
     "name": "stdout",
     "output_type": "stream",
     "text": [
      "True\n",
      "False\n",
      "True\n"
     ]
    }
   ],
   "source": [
    "import hashlib\n",
    "\n",
    "def hash_password(password):\n",
    "    return hashlib.sha256(password.encode()).hexdigest()\n",
    "\n",
    "def login(email, password_to_check, stored_login):\n",
    "    if email not in stored_login:\n",
    "        return False\n",
    "    \n",
    "    hashed_password = hash_password(password_to_check)\n",
    "    if stored_login[email] == hashed_password:\n",
    "        return True\n",
    "    else:\n",
    "        return False\n",
    "\n",
    "stored_logins = {\n",
    "    \"hassanrj@gmail.com\": hash_password(\"hassanrj123\"),\n",
    "    \"admin\": hash_password(\"admin\")\n",
    "}\n",
    "\n",
    "def main():\n",
    "    print(login(\"hassanrj@gmail.com\", \"hassanrj123\", stored_logins)) # True\n",
    "    print(login(\"admin\", \"user123\", stored_logins)) # False\n",
    "    print(login(\"admin\", \"admin\", stored_logins)) # True\n",
    "\n",
    "if __name__ == \"__main__\":\n",
    "    main()\n"
   ]
  }
 ],
 "metadata": {
  "kernelspec": {
   "display_name": "Python 3",
   "language": "python",
   "name": "python3"
  },
  "language_info": {
   "codemirror_mode": {
    "name": "ipython",
    "version": 3
   },
   "file_extension": ".py",
   "mimetype": "text/x-python",
   "name": "python",
   "nbconvert_exporter": "python",
   "pygments_lexer": "ipython3",
   "version": "3.12.9"
  }
 },
 "nbformat": 4,
 "nbformat_minor": 2
}
