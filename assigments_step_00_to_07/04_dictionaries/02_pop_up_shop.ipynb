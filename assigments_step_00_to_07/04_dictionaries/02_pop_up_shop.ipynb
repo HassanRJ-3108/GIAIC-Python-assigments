{
 "cells": [
  {
   "cell_type": "markdown",
   "metadata": {},
   "source": [
    "## Problem Statement\n",
    "\n",
    "There's a small fruit shop nearby your house that you like to buy from. Since you buy several fruit at a time, you want to keep track of how much the fruit will cost before you go. Luckily you wrote down what fruits were available and how much one of each fruit costs. \n",
    "\n",
    "Write a program that loops through a dictionary of fruits, prompting the user to see how many of each fruit they want to buy, and then prints out the total combined cost of all of the fruits.\n",
    "\n",
    "Here is an example run of the program (user input is in bold italics):\n",
    "\n",
    "How many (apple) do you want?: 2\n",
    "\n",
    "How many (durian) do you want?: 0\n",
    "\n",
    "How many (jackfruit) do you want?: 1\n",
    "\n",
    "How many (kiwi) do you want?: 0\n",
    "\n",
    "How many (rambutan) do you want?: 1\n",
    "\n",
    "How many (mango) do you want?: 3\n",
    "\n",
    "Your total is $99.5"
   ]
  },
  {
   "cell_type": "code",
   "execution_count": 5,
   "metadata": {},
   "outputs": [
    {
     "name": "stdout",
     "output_type": "stream",
     "text": [
      "You total is $114.10\n"
     ]
    }
   ],
   "source": [
    "def main():\n",
    "    fruits = {\"apple\": 2, \"durian\": 7, \"jackfruit\": 20, \"kiwi\": 10.3, \"rambutan\": 5.5, \"mango\": 3.5}\n",
    "    total_costs = 0\n",
    "    for fruit in fruits:\n",
    "        price = fruits[fruit]\n",
    "        bought_amount = float(input(f\"How many ({fruit}) do you want? \"))\n",
    "        total_costs += price * bought_amount\n",
    "        \n",
    "    print(f\"You total is ${total_costs:.2f}\")\n",
    "    \n",
    "if __name__ == \"__main__\":\n",
    "    main()"
   ]
  }
 ],
 "metadata": {
  "kernelspec": {
   "display_name": "Python 3",
   "language": "python",
   "name": "python3"
  },
  "language_info": {
   "codemirror_mode": {
    "name": "ipython",
    "version": 3
   },
   "file_extension": ".py",
   "mimetype": "text/x-python",
   "name": "python",
   "nbconvert_exporter": "python",
   "pygments_lexer": "ipython3",
   "version": "3.12.9"
  }
 },
 "nbformat": 4,
 "nbformat_minor": 2
}
