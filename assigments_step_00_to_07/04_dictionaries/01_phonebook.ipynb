{
 "cells": [
  {
   "cell_type": "markdown",
   "metadata": {},
   "source": [
    "## Problem Statement\n",
    "\n",
    "In this program we show an example of using dictionaries to keep track of information in a phonebook.\n"
   ]
  },
  {
   "cell_type": "code",
   "execution_count": 2,
   "metadata": {},
   "outputs": [
    {
     "name": "stdout",
     "output_type": "stream",
     "text": [
      "Hassan: -> 03161097202\n",
      "Ashfaq: -> 03162011293\n",
      "Sumera: -> 03162775403\n",
      "03161097202\n",
      "03162011293\n",
      "Phonebook not found\n",
      "Phonebook not found\n"
     ]
    }
   ],
   "source": [
    "def get_phonebook():\n",
    "    \n",
    "    phonebook = {}\n",
    "    name = input(\"Name: \")\n",
    "    while name != \"\":\n",
    "        phone_num = input(\"Phone number: \")\n",
    "        phonebook[name]= phone_num\n",
    "        name = input(\"Name: \")\n",
    "    return phonebook\n",
    "\n",
    "def print_phonebook(phonebook):\n",
    "    for name in phonebook:\n",
    "        print(f\"{name}: -> {phonebook[name]}\")\n",
    "        \n",
    "def phone_lookup(phonebook):\n",
    "    while True:\n",
    "        user_input = input(\"Enter a name to look up: \")\n",
    "        if user_input == \"\":\n",
    "            break\n",
    "        if user_input in phonebook:\n",
    "            print(phonebook[user_input])\n",
    "        else:\n",
    "            print(\"Phonebook not found\")\n",
    "\n",
    "def main():\n",
    "    phonebook = get_phonebook()\n",
    "    print_phonebook(phonebook)\n",
    "    phone_lookup(phonebook)\n",
    "    \n",
    "if __name__ == \"__main__\":\n",
    "    main()"
   ]
  }
 ],
 "metadata": {
  "kernelspec": {
   "display_name": "Python 3",
   "language": "python",
   "name": "python3"
  },
  "language_info": {
   "codemirror_mode": {
    "name": "ipython",
    "version": 3
   },
   "file_extension": ".py",
   "mimetype": "text/x-python",
   "name": "python",
   "nbconvert_exporter": "python",
   "pygments_lexer": "ipython3",
   "version": "3.12.9"
  }
 },
 "nbformat": 4,
 "nbformat_minor": 2
}
